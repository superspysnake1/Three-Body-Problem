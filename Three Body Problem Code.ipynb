{
 "cells": [
  {
   "cell_type": "code",
   "execution_count": 1,
   "metadata": {},
   "outputs": [],
   "source": [
    "import numpy as np\n",
    "import matplotlib.pyplot as plt\n",
    "\n",
    "from matplotlib import animation, rc\n",
    "from IPython.display import HTML"
   ]
  },
  {
   "cell_type": "markdown",
   "metadata": {},
   "source": [
    "To calculate the acceleration, I use the following equations.\n",
    "$$a_{x,u} = \\sum_{u \\neq v} \\frac{G m_v}{r_{u,v}^2} \\frac{\\Delta x_{u,v}}{r_{u,v}} = \\sum_{u \\neq v} \\frac{G m_v\\Delta x_{u,v}}{r_{u,v}^3}$$\n",
    "$$a_{y,u} = \\sum_{u \\neq v} \\frac{G m_v}{r_{u,v}^2} \\frac{\\Delta y_{u,v}}{r_{u,v}} = \\sum_{u \\neq v} \\frac{G m_v\\Delta y_{u,v}}{r_{u,v}^3}$$\n",
    "\n",
    "Then I iterate the velocity and position using the Euler-Cromer method.\n",
    "$$v_x[i+1] = v_x[i] + a_x[i] \\Delta t$$\n",
    "$$v_y[i+1] = v_y[i] + a_y[i] \\Delta t$$\n",
    "$$s_x[i+1] = s_x[i] + v_x[i+1] \\Delta t$$\n",
    "$$s_y[i+1] = s_y[i] + v_y[i+1] \\Delta t$$"
   ]
  },
  {
   "cell_type": "code",
   "execution_count": 2,
   "metadata": {},
   "outputs": [],
   "source": [
    "def gravitationalmotion(masses, initial_velocity, initial_position, total_time):\n",
    "    #Here, I set up all of the initial conditions\n",
    "    G = 1\n",
    "    dt = 0.001 \n",
    "    iterations = int(total_time / dt)\n",
    "    num_bodies = len(masses)\n",
    "    positions = np.zeros([iterations, num_bodies, 2]) #positions(iterations, body, dimension)\n",
    "    velocities = np.zeros([iterations, num_bodies, 2]) #velocities(iterations, body, dimension)\n",
    "    \n",
    "    for i in range(num_bodies): #Now it's time to initialize the position and velocities\n",
    "        for j in range(2):\n",
    "            positions[0][i][j] = initial_position[i][j]\n",
    "            velocities[0][i][j] = initial_velocity[i][j]\n",
    "    \n",
    "    for i in range(iterations-1): #Now we calculate the position of these objects for each timestep.\n",
    "        distances = np.zeros([num_bodies, num_bodies])\n",
    "        for u in range(num_bodies): #First well calculate the distance between each object\n",
    "            for v in range(num_bodies):\n",
    "                distances[u][v] = np.sqrt( (positions[i][u][0] - positions[i][v][0])**2 \n",
    "                                          + (positions[i][u][1] - positions[i][v][1])**2 )\n",
    "        \n",
    "        accelerations = np.zeros([num_bodies, 2])\n",
    "        for u in range(num_bodies):\n",
    "            for v in range(num_bodies):\n",
    "                if u != v:\n",
    "                    accelerations[u][0] += ((G * masses[v] * (positions[i][v][0] - positions[i][u][0]))/(distances[u][v]**3)) \n",
    "                    accelerations[u][1] += ((G * masses[v] * (positions[i][v][1] - positions[i][u][1]))/(distances[u][v]**3))\n",
    "        \n",
    "        for j in range(num_bodies): #finally, we'll calculate the velocities and positions of each object\n",
    "            velocities[i+1][j][0] = velocities[i][j][0] + (accelerations[j][0])*dt\n",
    "            velocities[i+1][j][1] = velocities[i][j][1] + (accelerations[j][1])*dt\n",
    "            positions[i+1][j][0] = positions[i][j][0] + (velocities[i+1][j][0])*dt\n",
    "            positions[i+1][j][1] = positions[i][j][1] + (velocities[i+1][j][1])*dt\n",
    "        \n",
    "    return positions"
   ]
  },
  {
   "cell_type": "code",
   "execution_count": 4,
   "metadata": {
    "scrolled": true
   },
   "outputs": [
    {
     "data": {
      "image/png": "[encoded data removed]",
      "text/plain": [
       "<Figure size 432x288 with 1 Axes>"
      ]
     },
     "metadata": {
      "needs_background": "light"
     },
     "output_type": "display_data"
    }
   ],
   "source": [
    "masses = [1,1,1]\n",
    "initial_velocity = [[0.4662036850,0.4323657300],[0.4662036850,0.4323657300],[-0.93240737,-0.86473146]]\n",
    "initial_position = [[-0.97000436,0.24308753],[0.97000436,-0.24308753],[0,0]]\n",
    "\n",
    "#initial_velocity = [[0,0],[0,0],[0,0]]\n",
    "#initial_position = [[3,-1],[-2,-2],[-1,3]]\n",
    "\n",
    "positions = gravitationalmotion(masses, initial_velocity, initial_position, 1000)\n",
    "\n",
    "for j in range(len(masses)):\n",
    "    plt.plot(positions[:,j,0],positions[:,j,1])\n",
    "plt.title('Figure-Eight Stable Three-Body Solution')\n",
    "plt.ylabel(r'$y$ Position')\n",
    "plt.xlabel(r'$x$ Position')\n",
    "plt.show()"
   ]
  },
  {
   "cell_type": "code",
   "execution_count": null,
   "metadata": {},
   "outputs": [],
   "source": [
    "masses = [1,1,1]\n",
    "initial_velocity = [[0.4662036850,0.4323657300],[0.4662036850,0.4323657300],[-0.93240737,-0.86473146]]\n",
    "initial_position = [[-0.97000436,0.24308753],[0.97000436,-0.24308753],[0,0]]\n",
    "total_time = 5\n",
    "\n",
    "positions = gravitationalmotion(masses, initial_velocity, initial_position, total_time)\n",
    "\n",
    "\n",
    "fig, ax = plt.subplots()\n",
    "plt.title('Figure-Eight Stable Three-Body Solution')\n",
    "plt.ylabel(r'$y$ Position')\n",
    "plt.xlabel(r'$x$ Position')\n",
    "ax.set_xlim(( -1.5, 1.5))\n",
    "ax.set_ylim((-0.5, 0.5))\n",
    "\n",
    "line, = ax.plot([], [], lw=2)\n",
    "def init():\n",
    "    line.set_data([], [])\n",
    "    return (line,)\n",
    "\n",
    "def animate(n):\n",
    "    x = positions[:n,0,0]\n",
    "    y = positions[:n,0,1]\n",
    "    line.set_data(x, y)\n",
    "    return (line,)\n",
    "\n",
    "anim = animation.FuncAnimation(fig, \n",
    "                               animate,\n",
    "                               init_func = init,\n",
    "                               frames=int(total_time / 0.001))\n",
    "HTML(anim.to_html5_video())"
   ]
  },
  {
   "cell_type": "code",
   "execution_count": null,
   "metadata": {},
   "outputs": [],
   "source": []
  }
 ],
 "metadata": {
  "kernelspec": {
   "display_name": "Python 3",
   "language": "python",
   "name": "python3"
  },
  "language_info": {
   "codemirror_mode": {
    "name": "ipython",
    "version": 3
   },
   "file_extension": ".py",
   "mimetype": "text/x-python",
   "name": "python",
   "nbconvert_exporter": "python",
   "pygments_lexer": "ipython3",
   "version": "3.8.5"
  }
 },
 "nbformat": 4,
 "nbformat_minor": 4
}
